{
 "cells": [
  {
   "cell_type": "markdown",
   "metadata": {},
   "source": [
    "Descripción:\n",
    "\n",
    "Acceso a la Página de La Casa del Libro: \n",
    "\n",
    "    - Utilizando Selenium, deberás automatizar el proceso de navegación hacia la página de libros de ficción en el sitio web de La Casa del Libro.\n",
    "\n",
    "Extracción de Datos de las 5 Primeras Páginas: \n",
    "\n",
    "    - Una vez en la página de libros de ficción, debes programar su script para que recorra las 5 primeras páginas de libros, extrayendo los siguientes datos de cada libro:\n",
    "\n",
    "        - Título del libro.\n",
    "        - Autor(es) del libro.\n",
    "        - Precio del libro.\n",
    "        - Editorial del libro.\n",
    "        - Idioma del libro.\n",
    "        - Número de páginas del libro.\n",
    "\n",
    "Almacenamiento de Datos: Los datos extraídos deben almacenarse en un DataFrame."
   ]
  },
  {
   "cell_type": "code",
   "execution_count": 1,
   "metadata": {},
   "outputs": [],
   "source": [
    "import pandas as pd  # Pandas es una poderosa librería para manipulación y análisis de datos en Python.\n",
    "\n",
    "# Importar librerías para web scraping y manipulación de datos\n",
    "# -----------------------------------------------------------------------\n",
    "from bs4 import BeautifulSoup\n",
    "import requests\n",
    "\n",
    "# Importar librerías para automatización de navegadores web con Selenium\n",
    "# -----------------------------------------------------------------------\n",
    "from selenium import webdriver  # Selenium es una herramienta para automatizar la interacción con navegadores web.\n",
    "from webdriver_manager.chrome import ChromeDriverManager  # ChromeDriverManager gestiona la instalación del controlador de Chrome.\n",
    "from selenium.webdriver.common.keys import Keys  # Keys es útil para simular eventos de teclado en Selenium.\n",
    "from selenium.webdriver.support.ui import Select  # Select se utiliza para interactuar con elementos <select> en páginas web.\n",
    "\n",
    "# Importar librerías para pausar la ejecución\n",
    "# -----------------------------------------------------------------------\n",
    "from time import sleep  # Sleep se utiliza para pausar la ejecución del programa por un número de segundos."
   ]
  },
  {
   "cell_type": "code",
   "execution_count": 11,
   "metadata": {},
   "outputs": [],
   "source": [
    "driver=webdriver.Chrome()\n",
    "\n",
    "driver.maximize_window()\n",
    "\n",
    "driver.get(\"https://www.casadellibro.com/\")\n",
    "\n",
    "sleep(3)\n",
    "\n",
    "driver.find_element(\"css selector\", \"#onetrust-accept-btn-handler\").click()\n",
    "\n",
    "sleep(2)\n",
    "\n",
    "driver.find_element(\"css selector\", \"#app > div.v-application--wrap > div.when-mobile > div.cabecera.desktop > div.bottom-row > div > div > div:nth-child(2) > a\").click()\n",
    "\n",
    "sleep(3)\n",
    "\n",
    "lista_libros=[]\n",
    "\n",
    "for libro in range(1,6):\n",
    "    \n",
    "    lista_caracteristicas=[]\n",
    "\n",
    "    libro= driver.find_element(\"css selector\", f\"#buscadorNF > div.col-md-9.col-12 > div > div.grid-view.mt-4 > div:nth-child({i}) > a\"). click()\n",
    "\n",
    "    sleep(2)\n",
    "\n",
    "    titulo= driver.find_element(\"css selector\", \"#app > div.v-application--wrap > main > div > div > div > div:nth-child(3) > div > div.col-md-5.order-lg-2.col-12.order-1 > div > h1\").text\n",
    "    autor= driver.find_element(\"css selector\", \"#app > div.v-application--wrap > main > div > div > div > div:nth-child(3) > div > div.col-md-5.order-lg-2.col-12.order-1 > div > div.text-h5.d-flex.flex-wrap.author.mb-2.justify-center.justify-sm-start > div > a > span:nth-child(1)\").text\n",
    "    precio= driver.find_element(\"css selector\", \"#app > div.v-application--wrap > main > div > div > div > div:nth-child(3) > div > div.border-left.col-md-4.col-12.order-3 > div > div:nth-child(3) > div.col.col-8 > strong\").text\n",
    "    editorial= driver.find_element(\"css selector\", \"#app > div.v-application--wrap > main > div > div > div > div:nth-child(3) > div > div.col-md-5.order-lg-2.col-12.order-1 > div > div.d-none.d-md-inline > div:nth-child(1) > span:nth-child(1)\").text\n",
    "    idioma= driver.find_element(\"css selector\", \"#app > div.v-application--wrap > main > div > div > div > div:nth-child(7) > div > div:nth-child(2) > div > div:nth-child(3) > div:nth-child(2) > span\").text\n",
    "    paginas= driver.find_element(\"css selector\", \"#app > div.v-application--wrap > main > div > div > div > div:nth-child(7) > div > div:nth-child(2) > div > div:nth-child(1) > div:nth-child(2) > span\").text\n",
    "\n",
    "    lista_caracteristicas.append(titulo)\n",
    "    lista_caracteristicas.append(autor)\n",
    "    lista_caracteristicas.append(precio)\n",
    "    lista_caracteristicas.append(editorial)\n",
    "    lista_caracteristicas.append(idioma)\n",
    "    lista_caracteristicas.append(paginas)\n",
    "\n",
    "    lista_libros.append(tuple(lista_caracteristicas))\n",
    "    driver.back()\n",
    "\n"
   ]
  },
  {
   "cell_type": "code",
   "execution_count": 12,
   "metadata": {},
   "outputs": [
    {
     "data": {
      "text/plain": [
       "['LA CHICA DEL VERANO (NOVELA)',\n",
       " 'LA VECINA RUBIA',\n",
       " '18,90 €',\n",
       " 'TIMUN MAS',\n",
       " 'CASTELLANO',\n",
       " '424']"
      ]
     },
     "execution_count": 12,
     "metadata": {},
     "output_type": "execute_result"
    }
   ],
   "source": [
    "lista_caracteristicas"
   ]
  },
  {
   "cell_type": "code",
   "execution_count": null,
   "metadata": {},
   "outputs": [],
   "source": [
    "#buscadorNF > div.col-md-9.col-12 > div > div.grid-view.mt-4 > div:nth-child(2) > a\n",
    "#buscadorNF > div.col-md-9.col-12 > div > div.grid-view.mt-4 > div:nth-child(1) > a"
   ]
  }
 ],
 "metadata": {
  "kernelspec": {
   "display_name": "Python 3",
   "language": "python",
   "name": "python3"
  },
  "language_info": {
   "codemirror_mode": {
    "name": "ipython",
    "version": 3
   },
   "file_extension": ".py",
   "mimetype": "text/x-python",
   "name": "python",
   "nbconvert_exporter": "python",
   "pygments_lexer": "ipython3",
   "version": "3.10.7"
  }
 },
 "nbformat": 4,
 "nbformat_minor": 2
}
