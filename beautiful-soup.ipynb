{
 "cells": [
  {
   "cell_type": "markdown",
   "metadata": {},
   "source": [
    "# Beautiful Soup\n",
    "Escribe una función llamada scrape_coches_ocasion que acepta una URL como argumento y devuelve un DataFrame de pandas con información sobre coches de ocasión encontrados en la página web especificada. La función realizará las siguientes tareas:\n",
    "\n",
    "    - Realizará una solicitud HTTP GET a la siguiente url.\n",
    "\n",
    "    - Comprobará el código de estado de la respuesta. Si el código no es 200 (OK), imprimirá un mensaje de error y retornará None.\n",
    "\n",
    "    - Extraerá los nombres de los coches, los precios rebajados, los precios originales y la información de los kilómetros recorridos de la página.\n",
    "\n",
    "    - Organizará los datos extraídos en un DataFrame de pandas con las siguientes columnas:\n",
    "\n",
    "        * \"coche\": Nombres de los coches.\n",
    "\n",
    "        * \"precio_rebajado\": Precios rebajados.\n",
    "\n",
    "        * \"precio_original\": Precios originales.\n",
    "\n",
    "        * \"km\": Kilómetros recorridos.\n",
    "\n",
    "    - Retornará el DataFrame resultante.\n",
    "    \n",
    "    - Una vez extraida toda la información deberéis almacenar toda la información en un DataFrame"
   ]
  },
  {
   "cell_type": "code",
   "execution_count": null,
   "metadata": {},
   "outputs": [],
   "source": [
    "# antes de empezar importamos las librerías que vamos a usar. \n",
    "# Importar librerías para web scraping y manipulación de datos\n",
    "# -----------------------------------------------------------------------\n",
    "from bs4 import BeautifulSoup\n",
    "import requests\n",
    "\n",
    "# Importar librerías para manipulación y análisis de datos\n",
    "# -----------------------------------------------------------------------\n",
    "import pandas as pd\n",
    "\n",
    "# Importar librerías para procesamiento de texto\n",
    "# -----------------------------------------------------------------------\n",
    "import re\n",
    "\n",
    "pd.set_option('display.max_columns', None)\n",
    "pd.set_option('display.max_rows', None) # para poder visualizar todas las columnas de los DataFrames"
   ]
  },
  {
   "cell_type": "code",
   "execution_count": null,
   "metadata": {},
   "outputs": [],
   "source": [
    "url='https://www.ocasionplus.com/coches-ocasion?type%3DCAR%26sort%3DFECHAOP_DESC%26page%3D2'\n",
    "respuesta_coches=requests.get(url)\n",
    "respuesta_coches.status_code\n",
    "respuesta_coches.content"
   ]
  },
  {
   "cell_type": "code",
   "execution_count": null,
   "metadata": {},
   "outputs": [],
   "source": [
    "sopa_coches=BeautifulSoup(respuesta_coches.content,'html.parser')\n",
    "print(sopa_coches.prettify())"
   ]
  },
  {
   "cell_type": "code",
   "execution_count": null,
   "metadata": {},
   "outputs": [],
   "source": [
    "nombre_coche=sopa_coches.find_all('h2',{'style':'overflow-x:hidden'})\n",
    "\n",
    "nombre_coche[:3]"
   ]
  },
  {
   "cell_type": "code",
   "execution_count": null,
   "metadata": {},
   "outputs": [],
   "source": [
    "valores_nombre=[]\n",
    "for nombre in nombre_coche:\n",
    "    resultado_nombre=nombre.text\n",
    "    valores_nombre.append(resultado_nombre)\n",
    "valores_nombre"
   ]
  },
  {
   "cell_type": "code",
   "execution_count": null,
   "metadata": {},
   "outputs": [],
   "source": [
    "precio_rebajado_coche=sopa_coches.find_all('span',{'class':'jsx-2689423372 price'})\n",
    "precio_rebajado_coche[0].text"
   ]
  },
  {
   "cell_type": "code",
   "execution_count": null,
   "metadata": {},
   "outputs": [],
   "source": [
    "valores_precio_rebajado=[]\n",
    "for precio_r in precio_rebajado_coche:\n",
    "    resultado_precio_r=precio_r.text\n",
    "    valores_precio_rebajado.append(resultado_precio_r)\n",
    "valores_precio_rebajado"
   ]
  },
  {
   "cell_type": "code",
   "execution_count": null,
   "metadata": {},
   "outputs": [],
   "source": [
    "precio_original_coche=sopa_coches.find_all('span',{'class':'jsx-2870186023 priceLast'})\n",
    "precio_original_coche[0].text"
   ]
  },
  {
   "cell_type": "code",
   "execution_count": null,
   "metadata": {},
   "outputs": [],
   "source": [
    "valores_precio_original=[]\n",
    "for precio_o in precio_original_coche:\n",
    "    resultado_precio_o=precio_o.text\n",
    "    valores_precio_original.append(resultado_precio_o)\n",
    "valores_precio_original"
   ]
  },
  {
   "cell_type": "code",
   "execution_count": null,
   "metadata": {},
   "outputs": [],
   "source": [
    "km_coche_con_cosas=sopa_coches.find_all('span',{'class':'jsx-3960002075 detail big'})\n",
    "valores_km_coche=[]\n",
    "for elemento_regex in km_coche_con_cosas:\n",
    "    \n",
    "    km_coche_regex=re.findall('\\d+[.]\\d+\\s[km]+',elemento_regex.text)\n",
    "    if km_coche_regex==[]:\n",
    "        continue\n",
    "    else: \n",
    "        valores_km_coche.append(km_coche_regex)\n",
    "    \n",
    "valores_km_coche"
   ]
  },
  {
   "cell_type": "code",
   "execution_count": 33,
   "metadata": {},
   "outputs": [],
   "source": [
    "def coches_ocasion (url):\n",
    "    diccionario_coches={'Nombre':[],'Precio rebajado':[],'Precio original':[],'Kilómetros':[]}\n",
    "    respuesta_coches=requests.get(url)\n",
    "    print (f'La respuesta a la llamada es {respuesta_coches.status_code}')\n",
    "    sopa_coches=BeautifulSoup(respuesta_coches.content,'html.parser')\n",
    "\n",
    "    nombre_coche=sopa_coches.find_all('h2',{'style':'overflow-x:hidden'})\n",
    "\n",
    "    valores_nombre=[]\n",
    "    for nombre in nombre_coche:\n",
    "        resultado_nombre=nombre.text\n",
    "        valores_nombre.append(resultado_nombre)\n",
    "    print(len(valores_nombre))\n",
    "\n",
    "    diccionario_coches['Nombre']=valores_nombre\n",
    "    \n",
    "    precio_rebajado_coche=sopa_coches.find_all('span',{'class':'jsx-2689423372 price'})\n",
    "\n",
    "    valores_precio_rebajado=[]\n",
    "    for precio_r in precio_rebajado_coche:\n",
    "        resultado_precio_r=precio_r.text\n",
    "        valores_precio_rebajado.append(resultado_precio_r)\n",
    "\n",
    "    print(len(valores_precio_rebajado))\n",
    "    \n",
    "    diccionario_coches['Precio rebajado']=valores_precio_rebajado\n",
    "\n",
    "    precio_original_coche=sopa_coches.find_all('span',{'class':'jsx-2870186023 priceLast'})\n",
    "\n",
    "    valores_precio_original=[]\n",
    "    for precio_o in precio_original_coche:\n",
    "        resultado_precio_o=precio_o.text\n",
    "        valores_precio_original.append(resultado_precio_o)\n",
    "\n",
    "    print(len(valores_precio_original))\n",
    "    \n",
    "    diccionario_coches['Precio original']=valores_precio_original\n",
    "\n",
    "    km_coche_con_cosas=sopa_coches.find_all('span',{'class':'jsx-3960002075 detail big'})\n",
    "    valores_km_coche=[]\n",
    "    for elemento_regex in km_coche_con_cosas:\n",
    "        \n",
    "        km_coche_regex=re.findall('\\d+[.]\\d+\\s[km]+',elemento_regex.text)\n",
    "        if km_coche_regex==[]:\n",
    "            continue\n",
    "        else: \n",
    "            valores_km_coche.append(km_coche_regex)\n",
    "\n",
    "    print(len(valores_km_coche))\n",
    "\n",
    "    diccionario_coches['Kilómetros']=valores_km_coche\n",
    "    \n",
    "    return diccionario_coches\n",
    "    "
   ]
  },
  {
   "cell_type": "code",
   "execution_count": 34,
   "metadata": {},
   "outputs": [
    {
     "name": "stdout",
     "output_type": "stream",
     "text": [
      "La respuesta a la llamada es 200\n",
      "20\n",
      "20\n",
      "18\n",
      "20\n"
     ]
    }
   ],
   "source": [
    "datos_coches=coches_ocasion('https://www.ocasionplus.com/coches-ocasion?type%3DCAR%26sort%3DFECHAOP_DESC%26page%3D2')"
   ]
  },
  {
   "cell_type": "code",
   "execution_count": 32,
   "metadata": {},
   "outputs": [
    {
     "ename": "ValueError",
     "evalue": "All arrays must be of the same length",
     "output_type": "error",
     "traceback": [
      "\u001b[0;31m---------------------------------------------------------------------------\u001b[0m",
      "\u001b[0;31mValueError\u001b[0m                                Traceback (most recent call last)",
      "\u001b[1;32m/mnt/c/Users/salsi/OneDrive/Escritorio/adalab/Módulo 2/PairProgramming/da-promoF-modulo2-sprint1-pairprogramming-ReyesSilvia/beautiful-soup.ipynb Cell 14\u001b[0m line \u001b[0;36m1\n\u001b[0;32m----> <a href='vscode-notebook-cell://wsl%2Bubuntu-18.04/mnt/c/Users/salsi/OneDrive/Escritorio/adalab/M%C3%B3dulo%202/PairProgramming/da-promoF-modulo2-sprint1-pairprogramming-ReyesSilvia/beautiful-soup.ipynb#X16sdnNjb2RlLXJlbW90ZQ%3D%3D?line=0'>1</a>\u001b[0m df_coches\u001b[39m=\u001b[39mpd\u001b[39m.\u001b[39;49mDataFrame(datos_coches)\n\u001b[1;32m      <a href='vscode-notebook-cell://wsl%2Bubuntu-18.04/mnt/c/Users/salsi/OneDrive/Escritorio/adalab/M%C3%B3dulo%202/PairProgramming/da-promoF-modulo2-sprint1-pairprogramming-ReyesSilvia/beautiful-soup.ipynb#X16sdnNjb2RlLXJlbW90ZQ%3D%3D?line=1'>2</a>\u001b[0m df_coches\u001b[39m.\u001b[39mhead()\n",
      "File \u001b[0;32m~/anaconda3/lib/python3.10/site-packages/pandas/core/frame.py:664\u001b[0m, in \u001b[0;36mDataFrame.__init__\u001b[0;34m(self, data, index, columns, dtype, copy)\u001b[0m\n\u001b[1;32m    658\u001b[0m     mgr \u001b[39m=\u001b[39m \u001b[39mself\u001b[39m\u001b[39m.\u001b[39m_init_mgr(\n\u001b[1;32m    659\u001b[0m         data, axes\u001b[39m=\u001b[39m{\u001b[39m\"\u001b[39m\u001b[39mindex\u001b[39m\u001b[39m\"\u001b[39m: index, \u001b[39m\"\u001b[39m\u001b[39mcolumns\u001b[39m\u001b[39m\"\u001b[39m: columns}, dtype\u001b[39m=\u001b[39mdtype, copy\u001b[39m=\u001b[39mcopy\n\u001b[1;32m    660\u001b[0m     )\n\u001b[1;32m    662\u001b[0m \u001b[39melif\u001b[39;00m \u001b[39misinstance\u001b[39m(data, \u001b[39mdict\u001b[39m):\n\u001b[1;32m    663\u001b[0m     \u001b[39m# GH#38939 de facto copy defaults to False only in non-dict cases\u001b[39;00m\n\u001b[0;32m--> 664\u001b[0m     mgr \u001b[39m=\u001b[39m dict_to_mgr(data, index, columns, dtype\u001b[39m=\u001b[39;49mdtype, copy\u001b[39m=\u001b[39;49mcopy, typ\u001b[39m=\u001b[39;49mmanager)\n\u001b[1;32m    665\u001b[0m \u001b[39melif\u001b[39;00m \u001b[39misinstance\u001b[39m(data, ma\u001b[39m.\u001b[39mMaskedArray):\n\u001b[1;32m    666\u001b[0m     \u001b[39mimport\u001b[39;00m \u001b[39mnumpy\u001b[39;00m\u001b[39m.\u001b[39;00m\u001b[39mma\u001b[39;00m\u001b[39m.\u001b[39;00m\u001b[39mmrecords\u001b[39;00m \u001b[39mas\u001b[39;00m \u001b[39mmrecords\u001b[39;00m\n",
      "File \u001b[0;32m~/anaconda3/lib/python3.10/site-packages/pandas/core/internals/construction.py:493\u001b[0m, in \u001b[0;36mdict_to_mgr\u001b[0;34m(data, index, columns, dtype, typ, copy)\u001b[0m\n\u001b[1;32m    489\u001b[0m     \u001b[39melse\u001b[39;00m:\n\u001b[1;32m    490\u001b[0m         \u001b[39m# dtype check to exclude e.g. range objects, scalars\u001b[39;00m\n\u001b[1;32m    491\u001b[0m         arrays \u001b[39m=\u001b[39m [x\u001b[39m.\u001b[39mcopy() \u001b[39mif\u001b[39;00m \u001b[39mhasattr\u001b[39m(x, \u001b[39m\"\u001b[39m\u001b[39mdtype\u001b[39m\u001b[39m\"\u001b[39m) \u001b[39melse\u001b[39;00m x \u001b[39mfor\u001b[39;00m x \u001b[39min\u001b[39;00m arrays]\n\u001b[0;32m--> 493\u001b[0m \u001b[39mreturn\u001b[39;00m arrays_to_mgr(arrays, columns, index, dtype\u001b[39m=\u001b[39;49mdtype, typ\u001b[39m=\u001b[39;49mtyp, consolidate\u001b[39m=\u001b[39;49mcopy)\n",
      "File \u001b[0;32m~/anaconda3/lib/python3.10/site-packages/pandas/core/internals/construction.py:118\u001b[0m, in \u001b[0;36marrays_to_mgr\u001b[0;34m(arrays, columns, index, dtype, verify_integrity, typ, consolidate)\u001b[0m\n\u001b[1;32m    115\u001b[0m \u001b[39mif\u001b[39;00m verify_integrity:\n\u001b[1;32m    116\u001b[0m     \u001b[39m# figure out the index, if necessary\u001b[39;00m\n\u001b[1;32m    117\u001b[0m     \u001b[39mif\u001b[39;00m index \u001b[39mis\u001b[39;00m \u001b[39mNone\u001b[39;00m:\n\u001b[0;32m--> 118\u001b[0m         index \u001b[39m=\u001b[39m _extract_index(arrays)\n\u001b[1;32m    119\u001b[0m     \u001b[39melse\u001b[39;00m:\n\u001b[1;32m    120\u001b[0m         index \u001b[39m=\u001b[39m ensure_index(index)\n",
      "File \u001b[0;32m~/anaconda3/lib/python3.10/site-packages/pandas/core/internals/construction.py:666\u001b[0m, in \u001b[0;36m_extract_index\u001b[0;34m(data)\u001b[0m\n\u001b[1;32m    664\u001b[0m lengths \u001b[39m=\u001b[39m \u001b[39mlist\u001b[39m(\u001b[39mset\u001b[39m(raw_lengths))\n\u001b[1;32m    665\u001b[0m \u001b[39mif\u001b[39;00m \u001b[39mlen\u001b[39m(lengths) \u001b[39m>\u001b[39m \u001b[39m1\u001b[39m:\n\u001b[0;32m--> 666\u001b[0m     \u001b[39mraise\u001b[39;00m \u001b[39mValueError\u001b[39;00m(\u001b[39m\"\u001b[39m\u001b[39mAll arrays must be of the same length\u001b[39m\u001b[39m\"\u001b[39m)\n\u001b[1;32m    668\u001b[0m \u001b[39mif\u001b[39;00m have_dicts:\n\u001b[1;32m    669\u001b[0m     \u001b[39mraise\u001b[39;00m \u001b[39mValueError\u001b[39;00m(\n\u001b[1;32m    670\u001b[0m         \u001b[39m\"\u001b[39m\u001b[39mMixing dicts with non-Series may lead to ambiguous ordering.\u001b[39m\u001b[39m\"\u001b[39m\n\u001b[1;32m    671\u001b[0m     )\n",
      "\u001b[0;31mValueError\u001b[0m: All arrays must be of the same length"
     ]
    }
   ],
   "source": [
    "df_coches=pd.DataFrame(datos_coches)\n",
    "df_coches.head()"
   ]
  }
 ],
 "metadata": {
  "kernelspec": {
   "display_name": "base",
   "language": "python",
   "name": "python3"
  },
  "language_info": {
   "codemirror_mode": {
    "name": "ipython",
    "version": 3
   },
   "file_extension": ".py",
   "mimetype": "text/x-python",
   "name": "python",
   "nbconvert_exporter": "python",
   "pygments_lexer": "ipython3",
   "version": "3.10.9"
  }
 },
 "nbformat": 4,
 "nbformat_minor": 2
}
